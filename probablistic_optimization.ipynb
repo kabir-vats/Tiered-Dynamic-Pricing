{
 "cells": [
  {
   "cell_type": "markdown",
   "id": "50bfe06f-1ee5-40c4-9559-351f5926c79c",
   "metadata": {},
   "source": [
    "# Probablistic Optimization\n",
    "This notebook approaches similar problems as the previous notebook, using probability to estimate the profit for each given price. This is quick, computed optimization & hopes to lead to the closed form solution\n",
    "\n",
    "## The Current Challenge\n",
    "The challenge I'm currently facing is a difficulty conceptualizing thresholds in a closed form, hence the need for a computerized solution atm."
   ]
  },
  {
   "cell_type": "code",
   "execution_count": 105,
   "id": "fb3dabf6-e831-4561-beb1-24ecadb42659",
   "metadata": {},
   "outputs": [],
   "source": [
    "import numpy as np\n",
    "import matplotlib.pyplot as plt\n",
    "import scipy.stats\n",
    "from mpl_toolkits.mplot3d import Axes3D\n",
    "import matplotlib\n",
    "import scipy\n",
    "from tqdm import tqdm\n",
    "import plotly.graph_objects as go\n",
    "import math\n",
    "import sys\n",
    "from scipy.stats import norm"
   ]
  },
  {
   "cell_type": "code",
   "execution_count": 81,
   "id": "c8400e79-e25e-4522-9b18-3321ceb4f12d",
   "metadata": {},
   "outputs": [],
   "source": [
    "# Assumptions: costs is an ascending array, scaling_param is between 0 and 1\n",
    "def calculate_intervals(prices, costs, tiers, scaling_param):\n",
    "    \n",
    "    thresholds = []\n",
    "    thresholds.append(sys.float_info.min)\n",
    "    \n",
    "    for i in range(tiers):\n",
    "            if i == 0:\n",
    "                thresholds.append(prices[0]/costs[0])\n",
    "                                  \n",
    "            else:\n",
    "                intersection = (prices[i]-prices[i-1])/(costs[0] * ((costs[i]/costs[0])**(scaling_param)-(costs[i-1]/costs[0])**(scaling_param)))\n",
    "                j = 0\n",
    "                while intersection < thresholds[i - j]:\n",
    "                    j += 1\n",
    "                    if i == j:\n",
    "                        intersection = prices[i]/(costs[0]*(costs[i]/costs[0])**(scaling_param))\n",
    "                        break;\n",
    "                    else:\n",
    "                        intersection = (prices[i]-prices[i-j-1])/(costs[0] * ((costs[i]/costs[0])**(scaling_param)-(costs[i-j-1]/costs[0])**(scaling_param)))\n",
    "                    \n",
    "                thresholds.append(intersection)\n",
    "                \n",
    "                \n",
    "    for i in range(tiers):\n",
    "        if (thresholds[tiers - i] < thresholds[tiers-i-1]):\n",
    "            thresholds[tiers-i-1] = thresholds[tiers - i]\n",
    "            \n",
    "    intervals = []\n",
    "    for i in range(tiers):\n",
    "        intervals.append((thresholds[i],thresholds[i+1]))\n",
    "    \n",
    "    intervals.append((thresholds[len(thresholds)-1],sys.float_info.max))\n",
    "    return intervals"
   ]
  },
  {
   "cell_type": "code",
   "execution_count": 110,
   "id": "8f7233b6-301c-40be-a0ab-540bef607ecb",
   "metadata": {},
   "outputs": [],
   "source": [
    "# Assumptions: costs is an ascending array, scaling_param is between 0 and 1\n",
    "def tier_probabilities(prices, costs, tiers, intervals, mu, sigma, pdf_type = 'uniform'):\n",
    "    probabilities = []\n",
    "    if (pdf_type == 'uniform'):\n",
    "        start = mu - sigma\n",
    "        end = mu + sigma\n",
    "        point_prob = 1/(end - start)\n",
    "        for i in range(tiers+1):\n",
    "            probabilities.append((min(intervals[i][1],end)-max(intervals[i][0],start))*point_prob)\n",
    "    elif (pdf_type == 'gaussian'):\n",
    "        for i in range(tiers+1):\n",
    "            probabilities.append(norm.cdf(intervals[i][1],mu,sigma) - norm.cdf(intervals[i][0],mu,sigma))\n",
    "    else:\n",
    "        raise ValueError('pdf_type must be uniform or gaussian')\n",
    "    \n",
    "    return probabilities\n",
    "        "
   ]
  },
  {
   "cell_type": "code",
   "execution_count": 107,
   "id": "4a6f8d79-2106-46f2-a9f8-2d5fd8a89e20",
   "metadata": {},
   "outputs": [],
   "source": [
    "# calculate expected profit @ 1 customer based on probability distribution\n",
    "def profit(prices, costs, tiers, scaling_param, mu, sigma, pdf_type = 'uniform'):\n",
    "    intervals = calculate_intervals(prices,costs,tiers,scaling_param)\n",
    "    probabilities = tier_probabilities(prices, costs, tiers, intervals, mu, sigma, pdf_type)\n",
    "    \n",
    "    profits = [pr * (p - c) for (p, c, pr) in zip(prices, costs, probabilities[1:])]\n",
    "    \n",
    "    return sum(profits)"
   ]
  },
  {
   "cell_type": "code",
   "execution_count": 108,
   "id": "b3c558da-5f42-40cf-b30a-3d6099dc1f80",
   "metadata": {},
   "outputs": [],
   "source": [
    "# negative of profit because scipy likes to minimize\n",
    "def objective(prices, costs, tiers, scaling_param, mu, sigma, pdf_type = 'uniform'):\n",
    "    return -profit(prices, costs, tiers, scaling_param, mu, sigma, pdf_type)"
   ]
  },
  {
   "cell_type": "code",
   "execution_count": 109,
   "id": "c0e92432-c209-4d65-bacf-09c2ff9f2061",
   "metadata": {},
   "outputs": [
    {
     "name": "stderr",
     "output_type": "stream",
     "text": [
      "/opt/conda/lib/python3.9/site-packages/scipy/stats/_distn_infrastructure.py:1953: RuntimeWarning: overflow encountered in double_scalars\n",
      "  x = np.asarray((x - loc)/scale, dtype=dtyp)\n"
     ]
    },
    {
     "name": "stdout",
     "output_type": "stream",
     "text": [
      "     fun: -1.1688055820319019\n",
      " message: ['Maximum number of iteration reached']\n",
      "    nfev: 6089\n",
      "    nhev: 0\n",
      "     nit: 1000\n",
      "    njev: 22\n",
      "  status: 0\n",
      " success: True\n",
      "       x: array([1.83415542, 4.68410307, 7.29501182])\n"
     ]
    }
   ],
   "source": [
    "C = [1,3,5]\n",
    "B = len(C);\n",
    "scaling_lambda = 4/5\n",
    "mu = 2\n",
    "sigma = 0.5\n",
    "\n",
    "bounds = [(1,5),(3,15),(5,20)]\n",
    "\n",
    "result = scipy.optimize.dual_annealing(objective, bounds, args=(C, B, scaling_lambda, mu, sigma, 'gaussian'))\n",
    "print(result)"
   ]
  },
  {
   "cell_type": "code",
   "execution_count": 99,
   "id": "219f6039-5dee-4547-8ca7-0c6ead231985",
   "metadata": {},
   "outputs": [
    {
     "name": "stdout",
     "output_type": "stream",
     "text": [
      "0.6676662535792679\n"
     ]
    }
   ],
   "source": []
  },
  {
   "cell_type": "code",
   "execution_count": null,
   "id": "c98147de-3495-438e-ad36-418473d0e65f",
   "metadata": {},
   "outputs": [],
   "source": []
  }
 ],
 "metadata": {
  "kernelspec": {
   "display_name": "Python 3 (ipykernel)",
   "language": "python",
   "name": "python3"
  },
  "language_info": {
   "codemirror_mode": {
    "name": "ipython",
    "version": 3
   },
   "file_extension": ".py",
   "mimetype": "text/x-python",
   "name": "python",
   "nbconvert_exporter": "python",
   "pygments_lexer": "ipython3",
   "version": "3.9.5"
  }
 },
 "nbformat": 4,
 "nbformat_minor": 5
}
